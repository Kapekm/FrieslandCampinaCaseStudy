{
 "cells": [
  {
   "cell_type": "code",
   "execution_count": 6,
   "id": "fe4733e4",
   "metadata": {},
   "outputs": [],
   "source": [
    "#PDF to text\n",
    "from PyPDF2 import PdfReader\n",
    "\n",
    "#general\n",
    "import pandas as pd\n",
    "\n",
    "#NER\n",
    "import spacy\n",
    "# Loading the English model\n",
    "nlp = spacy.load('en_core_web_sm')"
   ]
  },
  {
   "cell_type": "code",
   "execution_count": null,
   "id": "800f992d-eda5-4b88-9ae9-7603e10d07f0",
   "metadata": {},
   "outputs": [],
   "source": [
    "FCReport = PdfReader("
   ]
  },
  {
   "cell_type": "code",
   "execution_count": 2,
   "id": "f9359240",
   "metadata": {},
   "outputs": [],
   "source": [
    "# reader = PdfReader(\"example.pdf\")\n",
    "# page = reader.pages[0]\n",
    "# print(page.extract_text())"
   ]
  },
  {
   "cell_type": "code",
   "execution_count": 4,
   "id": "2aad0cb5",
   "metadata": {},
   "outputs": [],
   "source": [
    "text = \"Apple is looking at buying U.K. startup for $1 billion\"\n",
    "\n",
    "# Processing the text\n",
    "doc = nlp(text)"
   ]
  },
  {
   "cell_type": "code",
   "execution_count": 5,
   "id": "7aa259a3-6059-435f-ba8f-b9e719899a24",
   "metadata": {},
   "outputs": [
    {
     "name": "stdout",
     "output_type": "stream",
     "text": [
      "Apple ORG\n",
      "U.K. GPE\n",
      "$1 billion MONEY\n"
     ]
    }
   ],
   "source": [
    "for entity in doc.ents:\n",
    "    print(entity.text, entity.label_)"
   ]
  },
  {
   "cell_type": "code",
   "execution_count": null,
   "id": "a67486cc-3cad-4d7f-bb63-dc07bc99a849",
   "metadata": {},
   "outputs": [],
   "source": []
  }
 ],
 "metadata": {
  "kernelspec": {
   "display_name": "Python 3 (ipykernel)",
   "language": "python",
   "name": "python3"
  },
  "language_info": {
   "codemirror_mode": {
    "name": "ipython",
    "version": 3
   },
   "file_extension": ".py",
   "mimetype": "text/x-python",
   "name": "python",
   "nbconvert_exporter": "python",
   "pygments_lexer": "ipython3",
   "version": "3.11.9"
  }
 },
 "nbformat": 4,
 "nbformat_minor": 5
}
