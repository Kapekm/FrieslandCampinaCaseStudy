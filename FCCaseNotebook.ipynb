{
 "cells": [
  {
   "cell_type": "code",
   "execution_count": 6,
   "id": "fe4733e4",
   "metadata": {},
   "outputs": [],
   "source": [
    "#PDF to text\n",
    "from PyPDF2 import PdfReader\n",
    "\n",
    "#general\n",
    "import pandas as pd\n",
    "\n",
    "#NER\n",
    "import spacy\n",
    "# Loading the English model\n",
    "nlp = spacy.load('en_core_web_sm')"
   ]
  },
  {
   "cell_type": "code",
   "execution_count": 7,
   "id": "800f992d-eda5-4b88-9ae9-7603e10d07f0",
   "metadata": {},
   "outputs": [],
   "source": [
    "FCReport = PdfReader(\"FC_AnnualReports/FrieslandCampina-Annual-Report-2023.pdf\")"
   ]
  },
  {
   "cell_type": "code",
   "execution_count": 10,
   "id": "60b19d31-baf7-4017-870e-c1c3563a1fec",
   "metadata": {},
   "outputs": [],
   "source": [
    "page = FCReport.pages[81]"
   ]
  },
  {
   "cell_type": "code",
   "execution_count": 11,
   "id": "d87c8c60-2f70-4f8f-ba91-741a932d3d01",
   "metadata": {},
   "outputs": [
    {
     "name": "stdout",
     "output_type": "stream",
     "text": [
      "Annual\tReport\tRoyal\tFrieslandCampina\tN.V.\t2023\t |\t82\n",
      "Report of the Executive Board\n",
      "How do we mitigate the risk?For\tFrieslandCampina\tto\tkeep\tup\twith\tthe\tfast-changing\tenvironment\t(e.g.\tdigital\t transformation,\tspeed\tof\tinnovation\tand\tgo-to-market\tstrategy)\tit\tis\tcrucial\tto\thave\tan\torganisational\tset-up\tthat\tis\tfit\tfor\tpurpose.\tAn\torganisational\trestructuring\thas\tbeen\tinitiated\tcombined\twith\toptimising\tprocesses\tand\tsystems.\tThis\tis\texecuted\tas\tpart\tof\tthe\tExpedition\t2030\tprogramme.Environmental, Social and Governance (ESG) \n",
      "Risk appetite\n",
      "What could happen?Failure\tto\tachieve,\tcomply\twith\tor\treport\ton\tESG\tobjectives,\tregulations\tor\tcommitments,\texposes\tthe\tcompany\tto\tbusiness\trisk,\treputation\trisk\tand/or\tresult\tin\tfinancial\tlosses.Recent developments & Outlook 2024The\tESG\tlandscape\tis\twitnessing\ta\tdeeper\tintegration\tof\tsustainable\tpractices\tinto\tbusiness\tstrategies,\twith\ta\tfocus\ton\tlong-term\tvalue\tcreation.\tAnticipated\tregulatory\tchanges\tdrive\tenhanced\tESG\treporting\tstandards,\twhile\tstakeholders,\tincluding\tinvestors\tand\tconsumers,\tare\tincreasingly\tprioritising\tengagement\twith\tcompanies\tdemonstrating\t robust\tenvironmental,\tsocial\tand\tgovernance\tcommitments.\tOur\tcompany\tfaces\tgrowing\texpectations\tregarding\tESG\trequirements\tof\tcustomers,\tNGOs,\tthe\tgovernment\tand\tthe\tpublic\tas\tthey\tgain\texpertise\tand\tintensify\tscrutiny.\tConsumer\tdemand\tfor\tproduct\ttraceability\tis\trising,\tprompting\tan\tincrease\tin\tthe\tnecessity\tof\tavailable\tsustainability\tdata\tacross\tthe\tentire\tvalue\tchain.Given\tthe\trising\tESG\treporting\trequirements,\tsuch\tas\tthe\tCorporate\tSustainability\tReporting\tDirective,\tCorporate\tSustainability\tDue\tDiligence\tDirective,\tor\tthe\tGlobal\tReporting\tInitiative,\tit\tis\timperative\tfor\tour\tcompany\tand\tsuppliers\tto\tprioritise\ttransparency\tthrough\taccurate\tand\t comprehensive\treporting,\tboth\tinternally\tand\texternally.How do we mitigate the risk?FrieslandCampina\tis\tactively\tengaged\tin\tglobal\tand\tlocal\tsustainability\tprogrammes,\tincluding\ta\tpublished\tclimate\tplan\tvalidated\tby\tthe\tScience\tBased\tTargets\tinitiative\t(SBTi)\tin\t2022,\twith\t\tgreenhouse\tgas\treduction\ttargets\tfor\t2030.\tSustainability,\tdeeply\trooted\tin\tthe\tcompany’s\tpurpose\tand\tstrategy,\tis\t–\ton\tfarm-based\taspects\t–\temphasised\tthrough\tthe\tFoqus\tplanet\tSustainable\tdevelopment\tprogramme.\tESG\tgovernance\tis\tstrengthened\tthrough\tthe\tposition\tof\ta\tChief\tSustainability\tOfficer\twith\ta\tseat\tin\tthe\tExecutive\tBoard\tof\tthe\tcompany\tand\tdedicated\tsustainability\tKPI\towners\tfor\tvarious\tbusiness\tfunctions.\tThe\tcompany\tclosely\tmonitors\treporting\trequirements\tand\timplements\t these\tto\texpand\tassurance\tfor\tspecific\tkey\tperformance\tindicators\t(KPIs)\tin\tits\tsustainability\tefforts.Innovation\n",
      "Risk appetite\n",
      "What could happen?Ineffective\tproduct\tor\tbrand\tinnovations\tor\tdevelopments,\tnot\tmeeting\tconsumer\tand/or\tcustomer\texpectations,\tstructurally\timpacting\t market\tshare\tand\tsustained\tbusiness\tresults.Inability\tto\tbuild\ta\trobust\tpipeline,\timpeding\tthe\tability\tto\tcontinuously\tdevelop\tnew\tproducts\tat\tthe\tright\ttime\tresulting\tin\ta\ttoo\tnarrow\tproduct\trange\tto\tsatisfy\tcustomer\tdemands\tand\tbe\tcompetitive.Recent developments & Outlook 2024There\tis\tan\temphasis\ton\tcreating\tfunctional\tand\thealth-focused\tdairy\tproducts,\tsuch\tas\tthose\tfortified\twith\tprobiotics,\tvitamins,\tand\tother\tnutritional\tenhancements,\taligning\twith\tthe\t growing\tconsumer\tdesire\tfor\ta\thealthier\tlifestyle.\tAdditionally,\tthere\tis\ta\tnotable\tshift\ttoward\tdeveloping\tdairy\talternatives,\tincluding\tplant-based\tbeverages,\tand\tplant-based\talternatives\tto\tcheeses\tand\tyoghurts,\tto\tcater\tto\tthe\t rising\t demand\tfor\tplant-centric\tdiets.The\tintegration\tof\tsustainable\tpackaging\tsolutions\tand\ta\tcommitment\tto\tenvironmentally\tfriendly\tpractices\tfurther\tcontribute\tto\tstaying\trelevant\tby\tappealing\tto\teco-conscious\tconsumers\tand\tcomplying\twith\tthe\tevolving\tregulatory\tlandscape\tthat\tis\tchanging\trapidly.\n"
     ]
    }
   ],
   "source": [
    "print(page.extract_text())"
   ]
  },
  {
   "cell_type": "code",
   "execution_count": 4,
   "id": "2aad0cb5",
   "metadata": {},
   "outputs": [],
   "source": [
    "text = \"Apple is looking at buying U.K. startup for $1 billion\"\n",
    "\n",
    "# Processing the text\n",
    "doc = nlp(text)"
   ]
  },
  {
   "cell_type": "code",
   "execution_count": 5,
   "id": "7aa259a3-6059-435f-ba8f-b9e719899a24",
   "metadata": {},
   "outputs": [
    {
     "name": "stdout",
     "output_type": "stream",
     "text": [
      "Apple ORG\n",
      "U.K. GPE\n",
      "$1 billion MONEY\n"
     ]
    }
   ],
   "source": [
    "for entity in doc.ents:\n",
    "    print(entity.text, entity.label_)"
   ]
  },
  {
   "cell_type": "code",
   "execution_count": null,
   "id": "a67486cc-3cad-4d7f-bb63-dc07bc99a849",
   "metadata": {},
   "outputs": [],
   "source": []
  }
 ],
 "metadata": {
  "kernelspec": {
   "display_name": "Python 3 (ipykernel)",
   "language": "python",
   "name": "python3"
  },
  "language_info": {
   "codemirror_mode": {
    "name": "ipython",
    "version": 3
   },
   "file_extension": ".py",
   "mimetype": "text/x-python",
   "name": "python",
   "nbconvert_exporter": "python",
   "pygments_lexer": "ipython3",
   "version": "3.11.9"
  }
 },
 "nbformat": 4,
 "nbformat_minor": 5
}
