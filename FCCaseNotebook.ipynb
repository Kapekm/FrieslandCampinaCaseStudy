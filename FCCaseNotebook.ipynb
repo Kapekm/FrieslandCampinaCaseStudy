{
 "cells": [
  {
   "cell_type": "code",
   "execution_count": 31,
   "id": "fe4733e4",
   "metadata": {},
   "outputs": [],
   "source": [
    "#PDF to text\n",
    "from PyPDF2 import PdfReader\n",
    "\n",
    "#general\n",
    "import pandas as pd\n",
    "import re\n",
    "\n",
    "#NER\n",
    "import spacy\n",
    "# Loading the English model\n",
    "nlp = spacy.load('en_core_web_sm')"
   ]
  },
  {
   "cell_type": "code",
   "execution_count": 32,
   "id": "800f992d-eda5-4b88-9ae9-7603e10d07f0",
   "metadata": {},
   "outputs": [],
   "source": [
    "FCReport = PdfReader(\"FC_AnnualReports/FrieslandCampina-Annual-Report-2021.pdf\")"
   ]
  },
  {
   "cell_type": "code",
   "execution_count": 33,
   "id": "60b19d31-baf7-4017-870e-c1c3563a1fec",
   "metadata": {},
   "outputs": [],
   "source": [
    "page = FCReport.pages[42]"
   ]
  },
  {
   "cell_type": "code",
   "execution_count": 40,
   "id": "d87c8c60-2f70-4f8f-ba91-741a932d3d01",
   "metadata": {},
   "outputs": [
    {
     "name": "stdout",
     "output_type": "stream",
     "text": [
      "Partnerships with customers\n",
      "Cooperating to create a positive impact forms part of our culture. We refer to this  \n",
      "as cooperative sustainability. For us, this means close cooperation with stakeholders, \n",
      "including customers, to achieve sustainable developments at farms and make \n",
      "products sustainable. In 2021, we invested with customers in accelerating the \n",
      "reduction of greenhouse gases and promoting sustainable developments at the \n",
      "farms of our member dairy farmers. Supplying ingredients and products with a lower \n",
      "carbon footprint to our customers is an example of this. With these partnerships,  \n",
      "we not only contribute to lowering own carbon footprint, but we also support our \n",
      "customers by enabling them to offer products with a lower footprint under  \n",
      "their brands.\n",
      "In addition, we also carried out pilot projects for feed additives to reduce the \n",
      "emission of greenhouse gases, including the partnership with Barry Callebaut,  \n",
      "Agolin and Agrifirm. \n",
      "‘On the way to PlanetProof’ \n",
      "The independent ‘On the way to PlanetProof’ sustainability quality label for dairy \n",
      "products of the Stichting Milieukeur [Environmental Quality Mark Foundation] \n",
      "became one of the fastest-growing sustainability quality labels in the Netherlands  \n",
      "in 2021.\n",
      "267 FrieslandCampina fresh dairy and cheese products with the ‘On the way to \n",
      "PlanetProof' quality label were available in 2021. This represents a growth of  \n",
      "9 percent in comparison to 2020 and more than 25.6 percent in comparison to 2019. \n",
      "In 2021, Campina Quark also became available under this quality label. The milk \n",
      "comes from member dairy farmers who perform well on multiple themes \n",
      "simultaneously: animal welfare, biodiversity and climate.\n",
      "Six sustainable priorities \n",
      "The FrieslandCampina sustainability programme presented at the end of 2020, \n",
      "Nourishing a better planet , includes six priorities. This provides a greater focus to our \n",
      "efforts of accelerating global sustainability themes. We will also continue to devote \n",
      "full attention to themes such as human rights and animal welfare. In 2021, we saw \n",
      "that this refined focus was bearing fruit in terms of the business group and brand-\n",
      "related developments.\n",
      "Better nutrition, affordable for everyone\n",
      "Our aim is to comply with the FrieslandCampina Global \n",
      "Nutritional Standards Next Level and to expand access to \n",
      "nutrition for lower income groups throughout the world.\n",
      "Milk naturally contains valuable nutrients, such as high-quality proteins, vitamins B2 \n",
      "and B12, calcium, potassium, phosphorous and magnesium. That makes milk \n",
      "products unique foods that are recommended in nutritional guidelines throughout \n",
      "the world.\n",
      "Balance and composition of the product range \n",
      "In 2021, 71 percent  of FrieslandCampina's products, on the basis of sales volume, \n",
      "complied with the FrieslandCampina Global Nutritional Standards Next Level (2025 \n",
      "target: minimum 74 percent). The FrieslandCampina Global Nutritional Standards are \n",
      "scientific nutritional criteria that our own consumer products are expected to comply \n",
      "with. The criteria for trans-fat, saturated fat, added sugar and salt are derived from \n",
      "Choices International , and were developed by independent scientists. The standards \n",
      "were evaluated in 2021 and were refined on the basis of the update provided by \n",
      "73/27% \n",
      "Ratio product supply  \n",
      "‘basic nutritional  \n",
      "products’ versus  \n",
      "‘self-indulgent’  12%\n",
      "Affordable nutrition in  \n",
      "emerging markets  \n"
     ]
    }
   ],
   "source": [
    "#Removes headers and footers\n",
    "parts = []\n",
    "\n",
    "def visitor_body(text, cm, tm, fontDict, fontSize):\n",
    "    y = tm[5]\n",
    "    if y > 10 and y < 500:\n",
    "        parts.append(text)\n",
    "\n",
    "\n",
    "page.extract_text(visitor_text=visitor_body)\n",
    "text_body = \"\".join(parts)\n",
    "\n",
    "print(text_body)"
   ]
  },
  {
   "cell_type": "code",
   "execution_count": 43,
   "id": "2aad0cb5",
   "metadata": {},
   "outputs": [],
   "source": [
    "# text = \"Apple is looking at buying U.K. startup for $1 billion\"\n",
    "\n",
    "# Processing the text\n",
    "doc = nlp(text_body)"
   ]
  },
  {
   "cell_type": "code",
   "execution_count": 44,
   "id": "7aa259a3-6059-435f-ba8f-b9e719899a24",
   "metadata": {
    "scrolled": true
   },
   "outputs": [
    {
     "name": "stdout",
     "output_type": "stream",
     "text": [
      "2021 DATE\n",
      "Barry Callebaut PERSON\n",
      "Agrifirm PERSON\n",
      "PlanetProof ORG\n",
      "PlanetProof ORG\n",
      "the Stichting Milieukeur ORG\n",
      "Netherlands GPE\n",
      "2021 DATE\n",
      "267 CARDINAL\n",
      "FrieslandCampina ORG\n",
      "PlanetProof ORG\n",
      "2021 DATE\n",
      "9 percent PERCENT\n",
      "2020 DATE\n",
      "more than 25.6 percent PERCENT\n",
      "2019 DATE\n",
      "2021 DATE\n",
      "Campina Quark PERSON\n",
      "Six CARDINAL\n",
      "FrieslandCampina ORG\n",
      "the end of 2020 DATE\n",
      "six CARDINAL\n",
      "2021 DATE\n",
      "the FrieslandCampina Global \n",
      "Nutritional Standards Next Level ORG\n",
      "B12 ORG\n",
      "2021 DATE\n",
      "71 percent PERCENT\n",
      "FrieslandCampina ORG\n",
      "the FrieslandCampina Global Nutritional Standards Next Level ORG\n",
      "2025 CARDINAL\n",
      "74 percent PERCENT\n",
      "The FrieslandCampina Global Nutritional Standards ORG\n",
      "Choices International ORG\n",
      "2021 DATE\n",
      "73/27% PERCENT\n",
      "Ratio ORG\n",
      "12% PERCENT\n"
     ]
    }
   ],
   "source": [
    "for entity in doc.ents:\n",
    "    print(entity.text, entity.label_)"
   ]
  },
  {
   "cell_type": "code",
   "execution_count": 14,
   "id": "d8d4e48c",
   "metadata": {},
   "outputs": [
    {
     "data": {
      "text/plain": [
       "'Numerals that do not fall under another type'"
      ]
     },
     "execution_count": 14,
     "metadata": {},
     "output_type": "execute_result"
    }
   ],
   "source": [
    "spacy.explain(\"CARDINAL\")"
   ]
  },
  {
   "cell_type": "code",
   "execution_count": null,
   "id": "a67486cc-3cad-4d7f-bb63-dc07bc99a849",
   "metadata": {},
   "outputs": [],
   "source": [
    "\"hello\""
   ]
  }
 ],
 "metadata": {
  "kernelspec": {
   "display_name": "Python 3 (ipykernel)",
   "language": "python",
   "name": "python3"
  },
  "language_info": {
   "codemirror_mode": {
    "name": "ipython",
    "version": 3
   },
   "file_extension": ".py",
   "mimetype": "text/x-python",
   "name": "python",
   "nbconvert_exporter": "python",
   "pygments_lexer": "ipython3",
   "version": "3.11.4"
  }
 },
 "nbformat": 4,
 "nbformat_minor": 5
}
